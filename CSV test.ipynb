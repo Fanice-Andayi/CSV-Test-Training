{
 "cells": [
  {
   "cell_type": "code",
   "execution_count": 6,
   "metadata": {},
   "outputs": [
    {
     "name": "stdout",
     "output_type": "stream",
     "text": [
      "{'Series_reference': 'BDCQ.SF1AA2CA', 'Period': '2016.06', 'Data_value': '1116.386', 'Suppressed': '', 'STATUS': 'F', 'UNITS': 'Dollars', 'Magnitude': '6', 'Subject': 'Business Data Collection - BDC', 'Group': 'Industry by financial variable (NZSIOC Level 2)', 'Series_title_1': 'Sales (operating income)', 'Series_title_2': 'Forestry and Logging', 'Series_title_3': 'Current prices', 'Series_title_4': 'Unadjusted', 'Series_title_5': ''}\n",
      "{'Series_reference': 'BDCQ.SF1AA2CA', 'Period': '2016.09', 'Data_value': '1070.874', 'Suppressed': '', 'STATUS': 'F', 'UNITS': 'Dollars', 'Magnitude': '6', 'Subject': 'Business Data Collection - BDC', 'Group': 'Industry by financial variable (NZSIOC Level 2)', 'Series_title_1': 'Sales (operating income)', 'Series_title_2': 'Forestry and Logging', 'Series_title_3': 'Current prices', 'Series_title_4': 'Unadjusted', 'Series_title_5': ''}\n",
      "{'Series_reference': 'BDCQ.SF1AA2CA', 'Period': '2016.12', 'Data_value': '1054.408', 'Suppressed': '', 'STATUS': 'F', 'UNITS': 'Dollars', 'Magnitude': '6', 'Subject': 'Business Data Collection - BDC', 'Group': 'Industry by financial variable (NZSIOC Level 2)', 'Series_title_1': 'Sales (operating income)', 'Series_title_2': 'Forestry and Logging', 'Series_title_3': 'Current prices', 'Series_title_4': 'Unadjusted', 'Series_title_5': ''}\n",
      "{'Series_reference': 'BDCQ.SF1AA2CA', 'Period': '2017.03', 'Data_value': '1010.665', 'Suppressed': '', 'STATUS': 'F', 'UNITS': 'Dollars', 'Magnitude': '6', 'Subject': 'Business Data Collection - BDC', 'Group': 'Industry by financial variable (NZSIOC Level 2)', 'Series_title_1': 'Sales (operating income)', 'Series_title_2': 'Forestry and Logging', 'Series_title_3': 'Current prices', 'Series_title_4': 'Unadjusted', 'Series_title_5': ''}\n",
      "{'Series_reference': 'BDCQ.SF1AA2CA', 'Period': '2017.06', 'Data_value': '1233.7', 'Suppressed': '', 'STATUS': 'F', 'UNITS': 'Dollars', 'Magnitude': '6', 'Subject': 'Business Data Collection - BDC', 'Group': 'Industry by financial variable (NZSIOC Level 2)', 'Series_title_1': 'Sales (operating income)', 'Series_title_2': 'Forestry and Logging', 'Series_title_3': 'Current prices', 'Series_title_4': 'Unadjusted', 'Series_title_5': ''}\n"
     ]
    }
   ],
   "source": [
    "import csv\n",
    "with open(\"Business_Data.csv\") as f:\n",
    "    reader=csv.DictReader (f)\n",
    "    Business_data= list (reader)\n",
    "for index in range (5):\n",
    "    print (Business_data[index])"
   ]
  },
  {
   "cell_type": "code",
   "execution_count": 7,
   "metadata": {},
   "outputs": [
    {
     "data": {
      "text/plain": [
       "{'Series_reference': 'BDCQ.SF1AA2CA',\n",
       " 'Period': '2016.12',\n",
       " 'Data_value': '1054.408',\n",
       " 'Suppressed': '',\n",
       " 'STATUS': 'F',\n",
       " 'UNITS': 'Dollars',\n",
       " 'Magnitude': '6',\n",
       " 'Subject': 'Business Data Collection - BDC',\n",
       " 'Group': 'Industry by financial variable (NZSIOC Level 2)',\n",
       " 'Series_title_1': 'Sales (operating income)',\n",
       " 'Series_title_2': 'Forestry and Logging',\n",
       " 'Series_title_3': 'Current prices',\n",
       " 'Series_title_4': 'Unadjusted',\n",
       " 'Series_title_5': ''}"
      ]
     },
     "execution_count": 7,
     "metadata": {},
     "output_type": "execute_result"
    }
   ],
   "source": [
    "Business_data[2]"
   ]
  },
  {
   "cell_type": "markdown",
   "metadata": {},
   "source": [
    "We want to get data on the key \"Period\""
   ]
  },
  {
   "cell_type": "code",
   "execution_count": 8,
   "metadata": {},
   "outputs": [
    {
     "data": {
      "text/plain": [
       "'2016.12'"
      ]
     },
     "execution_count": 8,
     "metadata": {},
     "output_type": "execute_result"
    }
   ],
   "source": [
    "Business_data[2]['Period']"
   ]
  },
  {
   "cell_type": "code",
   "execution_count": 9,
   "metadata": {},
   "outputs": [
    {
     "name": "stdout",
     "output_type": "stream",
     "text": [
      "['2016.06', '2016.09', '2016.12', '2017.03', '2017.06', '2017.09', '2017.12', '2018.03', '2018.06', '2018.09', '2018.12', '2019.03', '2019.06', '2019.09', '2019.12', '2020.03', '2020.06', '2020.09', '2020.12', '2021.03', '2021.06', '2021.09', '2021.12', '2022.03', '2022.06', '2022.09', '2022.12', '2023.03', '2023.06', '2016.06', '2016.09', '2016.12', '2017.03', '2017.06', '2017.09', '2017.12', '2018.03', '2018.06', '2018.09', '2018.12', '2019.03', '2019.06', '2019.09', '2019.12', '2020.03', '2020.06', '2020.09', '2020.12', '2021.03', '2021.06', '2021.09', '2021.12', '2022.03', '2022.06', '2022.09', '2022.12', '2023.03', '2023.06', '2016.06', '2016.09', '2016.12', '2017.03', '2017.06', '2017.09', '2017.12', '2018.03', '2018.06', '2018.09', '2018.12', '2019.03', '2019.06', '2019.09', '2019.12', '2020.03', '2020.06', '2020.09', '2020.12', '2021.03', '2021.06', '2021.09', '2021.12', '2022.03', '2022.06', '2022.09', '2022.12', '2023.03', '2023.06', '2016.06', '2016.09', '2016.12', '2017.03', '2017.06', '2017.09', '2017.12', '2018.03', '2018.06', '2018.09', '2018.12', '2019.03', '2019.06']\n"
     ]
    }
   ],
   "source": [
    "print ([row[\"Period\"] for row in Business_data][:100]) #Cutting it at 50 for readability"
   ]
  },
  {
   "cell_type": "code",
   "execution_count": 12,
   "metadata": {},
   "outputs": [
    {
     "data": {
      "text/html": [
       "<div>\n",
       "<style scoped>\n",
       "    .dataframe tbody tr th:only-of-type {\n",
       "        vertical-align: middle;\n",
       "    }\n",
       "\n",
       "    .dataframe tbody tr th {\n",
       "        vertical-align: top;\n",
       "    }\n",
       "\n",
       "    .dataframe thead th {\n",
       "        text-align: right;\n",
       "    }\n",
       "</style>\n",
       "<table border=\"1\" class=\"dataframe\">\n",
       "  <thead>\n",
       "    <tr style=\"text-align: right;\">\n",
       "      <th></th>\n",
       "      <th>Series_reference</th>\n",
       "      <th>Period</th>\n",
       "      <th>Data_value</th>\n",
       "      <th>Suppressed</th>\n",
       "      <th>STATUS</th>\n",
       "      <th>UNITS</th>\n",
       "      <th>Magnitude</th>\n",
       "      <th>Subject</th>\n",
       "      <th>Group</th>\n",
       "      <th>Series_title_1</th>\n",
       "      <th>Series_title_2</th>\n",
       "      <th>Series_title_3</th>\n",
       "      <th>Series_title_4</th>\n",
       "      <th>Series_title_5</th>\n",
       "    </tr>\n",
       "  </thead>\n",
       "  <tbody>\n",
       "    <tr>\n",
       "      <th>0</th>\n",
       "      <td>BDCQ.SF1AA2CA</td>\n",
       "      <td>2016.06</td>\n",
       "      <td>1116.386</td>\n",
       "      <td></td>\n",
       "      <td>F</td>\n",
       "      <td>Dollars</td>\n",
       "      <td>6</td>\n",
       "      <td>Business Data Collection - BDC</td>\n",
       "      <td>Industry by financial variable (NZSIOC Level 2)</td>\n",
       "      <td>Sales (operating income)</td>\n",
       "      <td>Forestry and Logging</td>\n",
       "      <td>Current prices</td>\n",
       "      <td>Unadjusted</td>\n",
       "      <td></td>\n",
       "    </tr>\n",
       "    <tr>\n",
       "      <th>1</th>\n",
       "      <td>BDCQ.SF1AA2CA</td>\n",
       "      <td>2016.09</td>\n",
       "      <td>1070.874</td>\n",
       "      <td></td>\n",
       "      <td>F</td>\n",
       "      <td>Dollars</td>\n",
       "      <td>6</td>\n",
       "      <td>Business Data Collection - BDC</td>\n",
       "      <td>Industry by financial variable (NZSIOC Level 2)</td>\n",
       "      <td>Sales (operating income)</td>\n",
       "      <td>Forestry and Logging</td>\n",
       "      <td>Current prices</td>\n",
       "      <td>Unadjusted</td>\n",
       "      <td></td>\n",
       "    </tr>\n",
       "    <tr>\n",
       "      <th>2</th>\n",
       "      <td>BDCQ.SF1AA2CA</td>\n",
       "      <td>2016.12</td>\n",
       "      <td>1054.408</td>\n",
       "      <td></td>\n",
       "      <td>F</td>\n",
       "      <td>Dollars</td>\n",
       "      <td>6</td>\n",
       "      <td>Business Data Collection - BDC</td>\n",
       "      <td>Industry by financial variable (NZSIOC Level 2)</td>\n",
       "      <td>Sales (operating income)</td>\n",
       "      <td>Forestry and Logging</td>\n",
       "      <td>Current prices</td>\n",
       "      <td>Unadjusted</td>\n",
       "      <td></td>\n",
       "    </tr>\n",
       "    <tr>\n",
       "      <th>3</th>\n",
       "      <td>BDCQ.SF1AA2CA</td>\n",
       "      <td>2017.03</td>\n",
       "      <td>1010.665</td>\n",
       "      <td></td>\n",
       "      <td>F</td>\n",
       "      <td>Dollars</td>\n",
       "      <td>6</td>\n",
       "      <td>Business Data Collection - BDC</td>\n",
       "      <td>Industry by financial variable (NZSIOC Level 2)</td>\n",
       "      <td>Sales (operating income)</td>\n",
       "      <td>Forestry and Logging</td>\n",
       "      <td>Current prices</td>\n",
       "      <td>Unadjusted</td>\n",
       "      <td></td>\n",
       "    </tr>\n",
       "    <tr>\n",
       "      <th>4</th>\n",
       "      <td>BDCQ.SF1AA2CA</td>\n",
       "      <td>2017.06</td>\n",
       "      <td>1233.7</td>\n",
       "      <td></td>\n",
       "      <td>F</td>\n",
       "      <td>Dollars</td>\n",
       "      <td>6</td>\n",
       "      <td>Business Data Collection - BDC</td>\n",
       "      <td>Industry by financial variable (NZSIOC Level 2)</td>\n",
       "      <td>Sales (operating income)</td>\n",
       "      <td>Forestry and Logging</td>\n",
       "      <td>Current prices</td>\n",
       "      <td>Unadjusted</td>\n",
       "      <td></td>\n",
       "    </tr>\n",
       "  </tbody>\n",
       "</table>\n",
       "</div>"
      ],
      "text/plain": [
       "  Series_reference   Period Data_value Suppressed STATUS    UNITS Magnitude  \\\n",
       "0    BDCQ.SF1AA2CA  2016.06   1116.386                 F  Dollars         6   \n",
       "1    BDCQ.SF1AA2CA  2016.09   1070.874                 F  Dollars         6   \n",
       "2    BDCQ.SF1AA2CA  2016.12   1054.408                 F  Dollars         6   \n",
       "3    BDCQ.SF1AA2CA  2017.03   1010.665                 F  Dollars         6   \n",
       "4    BDCQ.SF1AA2CA  2017.06     1233.7                 F  Dollars         6   \n",
       "\n",
       "                          Subject  \\\n",
       "0  Business Data Collection - BDC   \n",
       "1  Business Data Collection - BDC   \n",
       "2  Business Data Collection - BDC   \n",
       "3  Business Data Collection - BDC   \n",
       "4  Business Data Collection - BDC   \n",
       "\n",
       "                                             Group            Series_title_1  \\\n",
       "0  Industry by financial variable (NZSIOC Level 2)  Sales (operating income)   \n",
       "1  Industry by financial variable (NZSIOC Level 2)  Sales (operating income)   \n",
       "2  Industry by financial variable (NZSIOC Level 2)  Sales (operating income)   \n",
       "3  Industry by financial variable (NZSIOC Level 2)  Sales (operating income)   \n",
       "4  Industry by financial variable (NZSIOC Level 2)  Sales (operating income)   \n",
       "\n",
       "         Series_title_2  Series_title_3 Series_title_4 Series_title_5  \n",
       "0  Forestry and Logging  Current prices     Unadjusted                 \n",
       "1  Forestry and Logging  Current prices     Unadjusted                 \n",
       "2  Forestry and Logging  Current prices     Unadjusted                 \n",
       "3  Forestry and Logging  Current prices     Unadjusted                 \n",
       "4  Forestry and Logging  Current prices     Unadjusted                 "
      ]
     },
     "execution_count": 12,
     "metadata": {},
     "output_type": "execute_result"
    }
   ],
   "source": [
    "import pandas as pd\n",
    "df = pd.DataFrame(Business_data)\n",
    "df.head()"
   ]
  },
  {
   "cell_type": "code",
   "execution_count": 13,
   "metadata": {},
   "outputs": [
    {
     "data": {
      "text/plain": [
       "0       2016.06\n",
       "1       2016.09\n",
       "2       2016.12\n",
       "3       2017.03\n",
       "4       2017.06\n",
       "         ...   \n",
       "6910    2022.06\n",
       "6911    2022.09\n",
       "6912    2022.12\n",
       "6913    2023.03\n",
       "6914    2023.06\n",
       "Name: Period, Length: 6915, dtype: object"
      ]
     },
     "execution_count": 13,
     "metadata": {},
     "output_type": "execute_result"
    }
   ],
   "source": [
    "df [\"Period\"]"
   ]
  },
  {
   "cell_type": "code",
   "execution_count": 14,
   "metadata": {},
   "outputs": [
    {
     "data": {
      "text/plain": [
       "0       Business Data Collection - BDC\n",
       "1       Business Data Collection - BDC\n",
       "2       Business Data Collection - BDC\n",
       "3       Business Data Collection - BDC\n",
       "4       Business Data Collection - BDC\n",
       "                     ...              \n",
       "6910    Business Data Collection - BDC\n",
       "6911    Business Data Collection - BDC\n",
       "6912    Business Data Collection - BDC\n",
       "6913    Business Data Collection - BDC\n",
       "6914    Business Data Collection - BDC\n",
       "Name: Subject, Length: 6915, dtype: object"
      ]
     },
     "execution_count": 14,
     "metadata": {},
     "output_type": "execute_result"
    }
   ],
   "source": [
    "df [\"Subject\"]"
   ]
  },
  {
   "cell_type": "code",
   "execution_count": 15,
   "metadata": {},
   "outputs": [
    {
     "name": "stdout",
     "output_type": "stream",
     "text": [
      "<class 'pandas.core.frame.DataFrame'>\n",
      "RangeIndex: 6915 entries, 0 to 6914\n",
      "Data columns (total 14 columns):\n",
      " #   Column            Non-Null Count  Dtype \n",
      "---  ------            --------------  ----- \n",
      " 0   Series_reference  6915 non-null   object\n",
      " 1   Period            6915 non-null   object\n",
      " 2   Data_value        6915 non-null   object\n",
      " 3   Suppressed        6915 non-null   object\n",
      " 4   STATUS            6915 non-null   object\n",
      " 5   UNITS             6915 non-null   object\n",
      " 6   Magnitude         6915 non-null   object\n",
      " 7   Subject           6915 non-null   object\n",
      " 8   Group             6915 non-null   object\n",
      " 9   Series_title_1    6915 non-null   object\n",
      " 10  Series_title_2    6915 non-null   object\n",
      " 11  Series_title_3    6915 non-null   object\n",
      " 12  Series_title_4    6915 non-null   object\n",
      " 13  Series_title_5    6915 non-null   object\n",
      "dtypes: object(14)\n",
      "memory usage: 756.5+ KB\n"
     ]
    }
   ],
   "source": [
    "df.info()"
   ]
  },
  {
   "cell_type": "code",
   "execution_count": 16,
   "metadata": {},
   "outputs": [
    {
     "data": {
      "text/plain": [
       "RangeIndex(start=0, stop=6915, step=1)"
      ]
     },
     "execution_count": 16,
     "metadata": {},
     "output_type": "execute_result"
    }
   ],
   "source": [
    "df.index"
   ]
  },
  {
   "cell_type": "code",
   "execution_count": 17,
   "metadata": {},
   "outputs": [
    {
     "data": {
      "text/plain": [
       "Series_reference    object\n",
       "Period              object\n",
       "Data_value          object\n",
       "Suppressed          object\n",
       "STATUS              object\n",
       "UNITS               object\n",
       "Magnitude           object\n",
       "Subject             object\n",
       "Group               object\n",
       "Series_title_1      object\n",
       "Series_title_2      object\n",
       "Series_title_3      object\n",
       "Series_title_4      object\n",
       "Series_title_5      object\n",
       "dtype: object"
      ]
     },
     "execution_count": 17,
     "metadata": {},
     "output_type": "execute_result"
    }
   ],
   "source": [
    "df.dtypes"
   ]
  },
  {
   "cell_type": "code",
   "execution_count": 18,
   "metadata": {},
   "outputs": [
    {
     "data": {
      "text/plain": [
       "(6915, 14)"
      ]
     },
     "execution_count": 18,
     "metadata": {},
     "output_type": "execute_result"
    }
   ],
   "source": [
    "df.shape"
   ]
  },
  {
   "cell_type": "code",
   "execution_count": 19,
   "metadata": {},
   "outputs": [
    {
     "data": {
      "text/plain": [
       "Series_reference                                      BDCQ.SF1AA2CA\n",
       "Period                                                      2017.03\n",
       "Data_value                                                 1010.665\n",
       "Suppressed                                                         \n",
       "STATUS                                                            F\n",
       "UNITS                                                       Dollars\n",
       "Magnitude                                                         6\n",
       "Subject                              Business Data Collection - BDC\n",
       "Group               Industry by financial variable (NZSIOC Level 2)\n",
       "Series_title_1                             Sales (operating income)\n",
       "Series_title_2                                 Forestry and Logging\n",
       "Series_title_3                                       Current prices\n",
       "Series_title_4                                           Unadjusted\n",
       "Series_title_5                                                     \n",
       "Name: 3, dtype: object"
      ]
     },
     "execution_count": 19,
     "metadata": {},
     "output_type": "execute_result"
    }
   ],
   "source": [
    "df.iloc[3]"
   ]
  },
  {
   "cell_type": "code",
   "execution_count": 21,
   "metadata": {},
   "outputs": [
    {
     "data": {
      "text/html": [
       "<div>\n",
       "<style scoped>\n",
       "    .dataframe tbody tr th:only-of-type {\n",
       "        vertical-align: middle;\n",
       "    }\n",
       "\n",
       "    .dataframe tbody tr th {\n",
       "        vertical-align: top;\n",
       "    }\n",
       "\n",
       "    .dataframe thead th {\n",
       "        text-align: right;\n",
       "    }\n",
       "</style>\n",
       "<table border=\"1\" class=\"dataframe\">\n",
       "  <thead>\n",
       "    <tr style=\"text-align: right;\">\n",
       "      <th></th>\n",
       "      <th>Series_reference</th>\n",
       "      <th>Period</th>\n",
       "      <th>Data_value</th>\n",
       "      <th>Suppressed</th>\n",
       "      <th>STATUS</th>\n",
       "      <th>UNITS</th>\n",
       "      <th>Magnitude</th>\n",
       "      <th>Subject</th>\n",
       "      <th>Group</th>\n",
       "      <th>Series_title_1</th>\n",
       "      <th>Series_title_2</th>\n",
       "      <th>Series_title_3</th>\n",
       "      <th>Series_title_4</th>\n",
       "      <th>Series_title_5</th>\n",
       "    </tr>\n",
       "  </thead>\n",
       "  <tbody>\n",
       "    <tr>\n",
       "      <th>2</th>\n",
       "      <td>BDCQ.SF1AA2CA</td>\n",
       "      <td>2016.12</td>\n",
       "      <td>1054.408</td>\n",
       "      <td></td>\n",
       "      <td>F</td>\n",
       "      <td>Dollars</td>\n",
       "      <td>6</td>\n",
       "      <td>Business Data Collection - BDC</td>\n",
       "      <td>Industry by financial variable (NZSIOC Level 2)</td>\n",
       "      <td>Sales (operating income)</td>\n",
       "      <td>Forestry and Logging</td>\n",
       "      <td>Current prices</td>\n",
       "      <td>Unadjusted</td>\n",
       "      <td></td>\n",
       "    </tr>\n",
       "    <tr>\n",
       "      <th>3</th>\n",
       "      <td>BDCQ.SF1AA2CA</td>\n",
       "      <td>2017.03</td>\n",
       "      <td>1010.665</td>\n",
       "      <td></td>\n",
       "      <td>F</td>\n",
       "      <td>Dollars</td>\n",
       "      <td>6</td>\n",
       "      <td>Business Data Collection - BDC</td>\n",
       "      <td>Industry by financial variable (NZSIOC Level 2)</td>\n",
       "      <td>Sales (operating income)</td>\n",
       "      <td>Forestry and Logging</td>\n",
       "      <td>Current prices</td>\n",
       "      <td>Unadjusted</td>\n",
       "      <td></td>\n",
       "    </tr>\n",
       "    <tr>\n",
       "      <th>4</th>\n",
       "      <td>BDCQ.SF1AA2CA</td>\n",
       "      <td>2017.06</td>\n",
       "      <td>1233.7</td>\n",
       "      <td></td>\n",
       "      <td>F</td>\n",
       "      <td>Dollars</td>\n",
       "      <td>6</td>\n",
       "      <td>Business Data Collection - BDC</td>\n",
       "      <td>Industry by financial variable (NZSIOC Level 2)</td>\n",
       "      <td>Sales (operating income)</td>\n",
       "      <td>Forestry and Logging</td>\n",
       "      <td>Current prices</td>\n",
       "      <td>Unadjusted</td>\n",
       "      <td></td>\n",
       "    </tr>\n",
       "  </tbody>\n",
       "</table>\n",
       "</div>"
      ],
      "text/plain": [
       "  Series_reference   Period Data_value Suppressed STATUS    UNITS Magnitude  \\\n",
       "2    BDCQ.SF1AA2CA  2016.12   1054.408                 F  Dollars         6   \n",
       "3    BDCQ.SF1AA2CA  2017.03   1010.665                 F  Dollars         6   \n",
       "4    BDCQ.SF1AA2CA  2017.06     1233.7                 F  Dollars         6   \n",
       "\n",
       "                          Subject  \\\n",
       "2  Business Data Collection - BDC   \n",
       "3  Business Data Collection - BDC   \n",
       "4  Business Data Collection - BDC   \n",
       "\n",
       "                                             Group            Series_title_1  \\\n",
       "2  Industry by financial variable (NZSIOC Level 2)  Sales (operating income)   \n",
       "3  Industry by financial variable (NZSIOC Level 2)  Sales (operating income)   \n",
       "4  Industry by financial variable (NZSIOC Level 2)  Sales (operating income)   \n",
       "\n",
       "         Series_title_2  Series_title_3 Series_title_4 Series_title_5  \n",
       "2  Forestry and Logging  Current prices     Unadjusted                 \n",
       "3  Forestry and Logging  Current prices     Unadjusted                 \n",
       "4  Forestry and Logging  Current prices     Unadjusted                 "
      ]
     },
     "execution_count": 21,
     "metadata": {},
     "output_type": "execute_result"
    }
   ],
   "source": [
    "df.iloc[2:5]"
   ]
  },
  {
   "cell_type": "code",
   "execution_count": 23,
   "metadata": {},
   "outputs": [
    {
     "data": {
      "text/html": [
       "<div>\n",
       "<style scoped>\n",
       "    .dataframe tbody tr th:only-of-type {\n",
       "        vertical-align: middle;\n",
       "    }\n",
       "\n",
       "    .dataframe tbody tr th {\n",
       "        vertical-align: top;\n",
       "    }\n",
       "\n",
       "    .dataframe thead th {\n",
       "        text-align: right;\n",
       "    }\n",
       "</style>\n",
       "<table border=\"1\" class=\"dataframe\">\n",
       "  <thead>\n",
       "    <tr style=\"text-align: right;\">\n",
       "      <th></th>\n",
       "      <th>UNITS</th>\n",
       "      <th>Magnitude</th>\n",
       "      <th>Subject</th>\n",
       "      <th>Group</th>\n",
       "      <th>Series_title_1</th>\n",
       "    </tr>\n",
       "  </thead>\n",
       "  <tbody>\n",
       "    <tr>\n",
       "      <th>2</th>\n",
       "      <td>Dollars</td>\n",
       "      <td>6</td>\n",
       "      <td>Business Data Collection - BDC</td>\n",
       "      <td>Industry by financial variable (NZSIOC Level 2)</td>\n",
       "      <td>Sales (operating income)</td>\n",
       "    </tr>\n",
       "    <tr>\n",
       "      <th>3</th>\n",
       "      <td>Dollars</td>\n",
       "      <td>6</td>\n",
       "      <td>Business Data Collection - BDC</td>\n",
       "      <td>Industry by financial variable (NZSIOC Level 2)</td>\n",
       "      <td>Sales (operating income)</td>\n",
       "    </tr>\n",
       "    <tr>\n",
       "      <th>4</th>\n",
       "      <td>Dollars</td>\n",
       "      <td>6</td>\n",
       "      <td>Business Data Collection - BDC</td>\n",
       "      <td>Industry by financial variable (NZSIOC Level 2)</td>\n",
       "      <td>Sales (operating income)</td>\n",
       "    </tr>\n",
       "  </tbody>\n",
       "</table>\n",
       "</div>"
      ],
      "text/plain": [
       "     UNITS Magnitude                         Subject  \\\n",
       "2  Dollars         6  Business Data Collection - BDC   \n",
       "3  Dollars         6  Business Data Collection - BDC   \n",
       "4  Dollars         6  Business Data Collection - BDC   \n",
       "\n",
       "                                             Group            Series_title_1  \n",
       "2  Industry by financial variable (NZSIOC Level 2)  Sales (operating income)  \n",
       "3  Industry by financial variable (NZSIOC Level 2)  Sales (operating income)  \n",
       "4  Industry by financial variable (NZSIOC Level 2)  Sales (operating income)  "
      ]
     },
     "execution_count": 23,
     "metadata": {},
     "output_type": "execute_result"
    }
   ],
   "source": [
    "df.iloc[2:5,5:10]"
   ]
  },
  {
   "cell_type": "code",
   "execution_count": 25,
   "metadata": {},
   "outputs": [
    {
     "data": {
      "text/plain": [
       "0       Business Data Collection - BDC\n",
       "1       Business Data Collection - BDC\n",
       "2       Business Data Collection - BDC\n",
       "3       Business Data Collection - BDC\n",
       "4       Business Data Collection - BDC\n",
       "                     ...              \n",
       "6910    Business Data Collection - BDC\n",
       "6911    Business Data Collection - BDC\n",
       "6912    Business Data Collection - BDC\n",
       "6913    Business Data Collection - BDC\n",
       "6914    Business Data Collection - BDC\n",
       "Name: Subject, Length: 6915, dtype: object"
      ]
     },
     "execution_count": 25,
     "metadata": {},
     "output_type": "execute_result"
    }
   ],
   "source": [
    "df.loc [:, \"Subject\"]"
   ]
  },
  {
   "cell_type": "code",
   "execution_count": 27,
   "metadata": {},
   "outputs": [
    {
     "data": {
      "text/plain": [
       "2    1054.408\n",
       "3    1010.665\n",
       "4      1233.7\n",
       "5    1282.436\n",
       "6     1290.82\n",
       "Name: Data_value, dtype: object"
      ]
     },
     "execution_count": 27,
     "metadata": {},
     "output_type": "execute_result"
    }
   ],
   "source": [
    "df.loc[2:6, \"Data_value\"]"
   ]
  },
  {
   "cell_type": "code",
   "execution_count": 31,
   "metadata": {},
   "outputs": [
    {
     "data": {
      "text/html": [
       "<div>\n",
       "<style scoped>\n",
       "    .dataframe tbody tr th:only-of-type {\n",
       "        vertical-align: middle;\n",
       "    }\n",
       "\n",
       "    .dataframe tbody tr th {\n",
       "        vertical-align: top;\n",
       "    }\n",
       "\n",
       "    .dataframe thead th {\n",
       "        text-align: right;\n",
       "    }\n",
       "</style>\n",
       "<table border=\"1\" class=\"dataframe\">\n",
       "  <thead>\n",
       "    <tr style=\"text-align: right;\">\n",
       "      <th></th>\n",
       "      <th>Series_reference</th>\n",
       "      <th>Period</th>\n",
       "      <th>Data_value</th>\n",
       "      <th>Suppressed</th>\n",
       "      <th>STATUS</th>\n",
       "      <th>UNITS</th>\n",
       "      <th>Magnitude</th>\n",
       "      <th>Subject</th>\n",
       "      <th>Group</th>\n",
       "      <th>Series_title_1</th>\n",
       "      <th>Series_title_2</th>\n",
       "      <th>Series_title_3</th>\n",
       "      <th>Series_title_4</th>\n",
       "      <th>Series_title_5</th>\n",
       "    </tr>\n",
       "  </thead>\n",
       "  <tbody>\n",
       "    <tr>\n",
       "      <th>0</th>\n",
       "      <td>BDCQ.SF1AA2CA</td>\n",
       "      <td>2016.06</td>\n",
       "      <td>1116.386</td>\n",
       "      <td></td>\n",
       "      <td>F</td>\n",
       "      <td>Dollars</td>\n",
       "      <td>6</td>\n",
       "      <td>Business Data Collection - BDC</td>\n",
       "      <td>Industry by financial variable (NZSIOC Level 2)</td>\n",
       "      <td>Sales (operating income)</td>\n",
       "      <td>Forestry and Logging</td>\n",
       "      <td>Current prices</td>\n",
       "      <td>Unadjusted</td>\n",
       "      <td></td>\n",
       "    </tr>\n",
       "    <tr>\n",
       "      <th>1</th>\n",
       "      <td>BDCQ.SF1AA2CA</td>\n",
       "      <td>2016.09</td>\n",
       "      <td>1070.874</td>\n",
       "      <td></td>\n",
       "      <td>F</td>\n",
       "      <td>Dollars</td>\n",
       "      <td>6</td>\n",
       "      <td>Business Data Collection - BDC</td>\n",
       "      <td>Industry by financial variable (NZSIOC Level 2)</td>\n",
       "      <td>Sales (operating income)</td>\n",
       "      <td>Forestry and Logging</td>\n",
       "      <td>Current prices</td>\n",
       "      <td>Unadjusted</td>\n",
       "      <td></td>\n",
       "    </tr>\n",
       "    <tr>\n",
       "      <th>2</th>\n",
       "      <td>BDCQ.SF1AA2CA</td>\n",
       "      <td>2016.12</td>\n",
       "      <td>1054.408</td>\n",
       "      <td></td>\n",
       "      <td>F</td>\n",
       "      <td>Dollars</td>\n",
       "      <td>6</td>\n",
       "      <td>Business Data Collection - BDC</td>\n",
       "      <td>Industry by financial variable (NZSIOC Level 2)</td>\n",
       "      <td>Sales (operating income)</td>\n",
       "      <td>Forestry and Logging</td>\n",
       "      <td>Current prices</td>\n",
       "      <td>Unadjusted</td>\n",
       "      <td></td>\n",
       "    </tr>\n",
       "    <tr>\n",
       "      <th>3</th>\n",
       "      <td>BDCQ.SF1AA2CA</td>\n",
       "      <td>2017.03</td>\n",
       "      <td>1010.665</td>\n",
       "      <td></td>\n",
       "      <td>F</td>\n",
       "      <td>Dollars</td>\n",
       "      <td>6</td>\n",
       "      <td>Business Data Collection - BDC</td>\n",
       "      <td>Industry by financial variable (NZSIOC Level 2)</td>\n",
       "      <td>Sales (operating income)</td>\n",
       "      <td>Forestry and Logging</td>\n",
       "      <td>Current prices</td>\n",
       "      <td>Unadjusted</td>\n",
       "      <td></td>\n",
       "    </tr>\n",
       "    <tr>\n",
       "      <th>15</th>\n",
       "      <td>BDCQ.SF1AA2CA</td>\n",
       "      <td>2020.03</td>\n",
       "      <td>1073.017</td>\n",
       "      <td></td>\n",
       "      <td>F</td>\n",
       "      <td>Dollars</td>\n",
       "      <td>6</td>\n",
       "      <td>Business Data Collection - BDC</td>\n",
       "      <td>Industry by financial variable (NZSIOC Level 2)</td>\n",
       "      <td>Sales (operating income)</td>\n",
       "      <td>Forestry and Logging</td>\n",
       "      <td>Current prices</td>\n",
       "      <td>Unadjusted</td>\n",
       "      <td></td>\n",
       "    </tr>\n",
       "  </tbody>\n",
       "</table>\n",
       "</div>"
      ],
      "text/plain": [
       "   Series_reference   Period Data_value Suppressed STATUS    UNITS Magnitude  \\\n",
       "0     BDCQ.SF1AA2CA  2016.06   1116.386                 F  Dollars         6   \n",
       "1     BDCQ.SF1AA2CA  2016.09   1070.874                 F  Dollars         6   \n",
       "2     BDCQ.SF1AA2CA  2016.12   1054.408                 F  Dollars         6   \n",
       "3     BDCQ.SF1AA2CA  2017.03   1010.665                 F  Dollars         6   \n",
       "15    BDCQ.SF1AA2CA  2020.03   1073.017                 F  Dollars         6   \n",
       "\n",
       "                           Subject  \\\n",
       "0   Business Data Collection - BDC   \n",
       "1   Business Data Collection - BDC   \n",
       "2   Business Data Collection - BDC   \n",
       "3   Business Data Collection - BDC   \n",
       "15  Business Data Collection - BDC   \n",
       "\n",
       "                                              Group            Series_title_1  \\\n",
       "0   Industry by financial variable (NZSIOC Level 2)  Sales (operating income)   \n",
       "1   Industry by financial variable (NZSIOC Level 2)  Sales (operating income)   \n",
       "2   Industry by financial variable (NZSIOC Level 2)  Sales (operating income)   \n",
       "3   Industry by financial variable (NZSIOC Level 2)  Sales (operating income)   \n",
       "15  Industry by financial variable (NZSIOC Level 2)  Sales (operating income)   \n",
       "\n",
       "          Series_title_2  Series_title_3 Series_title_4 Series_title_5  \n",
       "0   Forestry and Logging  Current prices     Unadjusted                 \n",
       "1   Forestry and Logging  Current prices     Unadjusted                 \n",
       "2   Forestry and Logging  Current prices     Unadjusted                 \n",
       "3   Forestry and Logging  Current prices     Unadjusted                 \n",
       "15  Forestry and Logging  Current prices     Unadjusted                 "
      ]
     },
     "execution_count": 31,
     "metadata": {},
     "output_type": "execute_result"
    }
   ],
   "source": [
    "df.loc[df[\"Data_value\"] < \"1200\"].head()"
   ]
  },
  {
   "cell_type": "code",
   "execution_count": 36,
   "metadata": {},
   "outputs": [
    {
     "data": {
      "text/plain": [
       "0     Industry by financial variable (NZSIOC Level 2)\n",
       "1     Industry by financial variable (NZSIOC Level 2)\n",
       "2     Industry by financial variable (NZSIOC Level 2)\n",
       "3     Industry by financial variable (NZSIOC Level 2)\n",
       "15    Industry by financial variable (NZSIOC Level 2)\n",
       "16    Industry by financial variable (NZSIOC Level 2)\n",
       "29    Industry by financial variable (NZSIOC Level 2)\n",
       "30    Industry by financial variable (NZSIOC Level 2)\n",
       "31    Industry by financial variable (NZSIOC Level 2)\n",
       "32    Industry by financial variable (NZSIOC Level 2)\n",
       "Name: Group, dtype: object"
      ]
     },
     "execution_count": 36,
     "metadata": {},
     "output_type": "execute_result"
    }
   ],
   "source": [
    "df.loc[df[\"Data_value\"] < \"1200\", \"Group\" ].head(10)"
   ]
  },
  {
   "cell_type": "code",
   "execution_count": 41,
   "metadata": {},
   "outputs": [
    {
     "name": "stdout",
     "output_type": "stream",
     "text": [
      "0       True\n",
      "1       True\n",
      "2       True\n",
      "3       True\n",
      "15      True\n",
      "        ... \n",
      "6821    True\n",
      "6871    True\n",
      "6873    True\n",
      "6878    True\n",
      "6880    True\n",
      "Name: Group, Length: 1013, dtype: bool\n"
     ]
    }
   ],
   "source": [
    "print (df.loc[df[\"Data_value\"] < \"1200\", \"Group\" ]==1200)"
   ]
  },
  {
   "cell_type": "code",
   "execution_count": 42,
   "metadata": {},
   "outputs": [
    {
     "data": {
      "text/plain": [
       "<bound method IndexOpsMixin.value_counts of 0       1116.386\n",
       "1       1070.874\n",
       "2       1054.408\n",
       "3       1010.665\n",
       "4         1233.7\n",
       "          ...   \n",
       "6910     579.955\n",
       "6911     609.161\n",
       "6912     518.615\n",
       "6913      663.63\n",
       "6914     617.507\n",
       "Name: Data_value, Length: 6915, dtype: object>"
      ]
     },
     "execution_count": 42,
     "metadata": {},
     "output_type": "execute_result"
    }
   ],
   "source": [
    "df[\"Data_value\"].value_counts"
   ]
  },
  {
   "cell_type": "code",
   "execution_count": 44,
   "metadata": {},
   "outputs": [],
   "source": [
    "df['On_B_Line'] = df['Series_reference'].str.contains('B', regex=False)"
   ]
  },
  {
   "cell_type": "code",
   "execution_count": 46,
   "metadata": {},
   "outputs": [
    {
     "data": {
      "text/html": [
       "<div>\n",
       "<style scoped>\n",
       "    .dataframe tbody tr th:only-of-type {\n",
       "        vertical-align: middle;\n",
       "    }\n",
       "\n",
       "    .dataframe tbody tr th {\n",
       "        vertical-align: top;\n",
       "    }\n",
       "\n",
       "    .dataframe thead th {\n",
       "        text-align: right;\n",
       "    }\n",
       "</style>\n",
       "<table border=\"1\" class=\"dataframe\">\n",
       "  <thead>\n",
       "    <tr style=\"text-align: right;\">\n",
       "      <th></th>\n",
       "      <th>Series_reference</th>\n",
       "      <th>Period</th>\n",
       "      <th>Data_value</th>\n",
       "      <th>Suppressed</th>\n",
       "      <th>STATUS</th>\n",
       "      <th>UNITS</th>\n",
       "      <th>Magnitude</th>\n",
       "      <th>Subject</th>\n",
       "      <th>Group</th>\n",
       "      <th>Series_title_1</th>\n",
       "      <th>Series_title_2</th>\n",
       "      <th>Series_title_3</th>\n",
       "      <th>Series_title_4</th>\n",
       "      <th>Series_title_5</th>\n",
       "      <th>On_B_Line</th>\n",
       "    </tr>\n",
       "  </thead>\n",
       "  <tbody>\n",
       "    <tr>\n",
       "      <th>0</th>\n",
       "      <td>BDCQ.SF1AA2CA</td>\n",
       "      <td>2016.06</td>\n",
       "      <td>1116.386</td>\n",
       "      <td></td>\n",
       "      <td>F</td>\n",
       "      <td>Dollars</td>\n",
       "      <td>6</td>\n",
       "      <td>Business Data Collection - BDC</td>\n",
       "      <td>1200</td>\n",
       "      <td>Sales (operating income)</td>\n",
       "      <td>Forestry and Logging</td>\n",
       "      <td>Current prices</td>\n",
       "      <td>Unadjusted</td>\n",
       "      <td></td>\n",
       "      <td>True</td>\n",
       "    </tr>\n",
       "    <tr>\n",
       "      <th>1</th>\n",
       "      <td>BDCQ.SF1AA2CA</td>\n",
       "      <td>2016.09</td>\n",
       "      <td>1070.874</td>\n",
       "      <td></td>\n",
       "      <td>F</td>\n",
       "      <td>Dollars</td>\n",
       "      <td>6</td>\n",
       "      <td>Business Data Collection - BDC</td>\n",
       "      <td>1200</td>\n",
       "      <td>Sales (operating income)</td>\n",
       "      <td>Forestry and Logging</td>\n",
       "      <td>Current prices</td>\n",
       "      <td>Unadjusted</td>\n",
       "      <td></td>\n",
       "      <td>True</td>\n",
       "    </tr>\n",
       "    <tr>\n",
       "      <th>2</th>\n",
       "      <td>BDCQ.SF1AA2CA</td>\n",
       "      <td>2016.12</td>\n",
       "      <td>1054.408</td>\n",
       "      <td></td>\n",
       "      <td>F</td>\n",
       "      <td>Dollars</td>\n",
       "      <td>6</td>\n",
       "      <td>Business Data Collection - BDC</td>\n",
       "      <td>1200</td>\n",
       "      <td>Sales (operating income)</td>\n",
       "      <td>Forestry and Logging</td>\n",
       "      <td>Current prices</td>\n",
       "      <td>Unadjusted</td>\n",
       "      <td></td>\n",
       "      <td>True</td>\n",
       "    </tr>\n",
       "    <tr>\n",
       "      <th>3</th>\n",
       "      <td>BDCQ.SF1AA2CA</td>\n",
       "      <td>2017.03</td>\n",
       "      <td>1010.665</td>\n",
       "      <td></td>\n",
       "      <td>F</td>\n",
       "      <td>Dollars</td>\n",
       "      <td>6</td>\n",
       "      <td>Business Data Collection - BDC</td>\n",
       "      <td>1200</td>\n",
       "      <td>Sales (operating income)</td>\n",
       "      <td>Forestry and Logging</td>\n",
       "      <td>Current prices</td>\n",
       "      <td>Unadjusted</td>\n",
       "      <td></td>\n",
       "      <td>True</td>\n",
       "    </tr>\n",
       "    <tr>\n",
       "      <th>4</th>\n",
       "      <td>BDCQ.SF1AA2CA</td>\n",
       "      <td>2017.06</td>\n",
       "      <td>1233.7</td>\n",
       "      <td></td>\n",
       "      <td>F</td>\n",
       "      <td>Dollars</td>\n",
       "      <td>6</td>\n",
       "      <td>Business Data Collection - BDC</td>\n",
       "      <td>Industry by financial variable (NZSIOC Level 2)</td>\n",
       "      <td>Sales (operating income)</td>\n",
       "      <td>Forestry and Logging</td>\n",
       "      <td>Current prices</td>\n",
       "      <td>Unadjusted</td>\n",
       "      <td></td>\n",
       "      <td>True</td>\n",
       "    </tr>\n",
       "    <tr>\n",
       "      <th>...</th>\n",
       "      <td>...</td>\n",
       "      <td>...</td>\n",
       "      <td>...</td>\n",
       "      <td>...</td>\n",
       "      <td>...</td>\n",
       "      <td>...</td>\n",
       "      <td>...</td>\n",
       "      <td>...</td>\n",
       "      <td>...</td>\n",
       "      <td>...</td>\n",
       "      <td>...</td>\n",
       "      <td>...</td>\n",
       "      <td>...</td>\n",
       "      <td>...</td>\n",
       "      <td>...</td>\n",
       "    </tr>\n",
       "    <tr>\n",
       "      <th>6910</th>\n",
       "      <td>BDCQ.SF8RSCA</td>\n",
       "      <td>2022.06</td>\n",
       "      <td>579.955</td>\n",
       "      <td></td>\n",
       "      <td>F</td>\n",
       "      <td>Dollars</td>\n",
       "      <td>6</td>\n",
       "      <td>Business Data Collection - BDC</td>\n",
       "      <td>Industry by financial variable (NZSIOC Level 1)</td>\n",
       "      <td>Operating profit</td>\n",
       "      <td>Arts, Recreation and Other Services</td>\n",
       "      <td>Current</td>\n",
       "      <td>Unadjusted</td>\n",
       "      <td></td>\n",
       "      <td>True</td>\n",
       "    </tr>\n",
       "    <tr>\n",
       "      <th>6911</th>\n",
       "      <td>BDCQ.SF8RSCA</td>\n",
       "      <td>2022.09</td>\n",
       "      <td>609.161</td>\n",
       "      <td></td>\n",
       "      <td>F</td>\n",
       "      <td>Dollars</td>\n",
       "      <td>6</td>\n",
       "      <td>Business Data Collection - BDC</td>\n",
       "      <td>Industry by financial variable (NZSIOC Level 1)</td>\n",
       "      <td>Operating profit</td>\n",
       "      <td>Arts, Recreation and Other Services</td>\n",
       "      <td>Current</td>\n",
       "      <td>Unadjusted</td>\n",
       "      <td></td>\n",
       "      <td>True</td>\n",
       "    </tr>\n",
       "    <tr>\n",
       "      <th>6912</th>\n",
       "      <td>BDCQ.SF8RSCA</td>\n",
       "      <td>2022.12</td>\n",
       "      <td>518.615</td>\n",
       "      <td></td>\n",
       "      <td>F</td>\n",
       "      <td>Dollars</td>\n",
       "      <td>6</td>\n",
       "      <td>Business Data Collection - BDC</td>\n",
       "      <td>Industry by financial variable (NZSIOC Level 1)</td>\n",
       "      <td>Operating profit</td>\n",
       "      <td>Arts, Recreation and Other Services</td>\n",
       "      <td>Current</td>\n",
       "      <td>Unadjusted</td>\n",
       "      <td></td>\n",
       "      <td>True</td>\n",
       "    </tr>\n",
       "    <tr>\n",
       "      <th>6913</th>\n",
       "      <td>BDCQ.SF8RSCA</td>\n",
       "      <td>2023.03</td>\n",
       "      <td>663.63</td>\n",
       "      <td></td>\n",
       "      <td>F</td>\n",
       "      <td>Dollars</td>\n",
       "      <td>6</td>\n",
       "      <td>Business Data Collection - BDC</td>\n",
       "      <td>Industry by financial variable (NZSIOC Level 1)</td>\n",
       "      <td>Operating profit</td>\n",
       "      <td>Arts, Recreation and Other Services</td>\n",
       "      <td>Current</td>\n",
       "      <td>Unadjusted</td>\n",
       "      <td></td>\n",
       "      <td>True</td>\n",
       "    </tr>\n",
       "    <tr>\n",
       "      <th>6914</th>\n",
       "      <td>BDCQ.SF8RSCA</td>\n",
       "      <td>2023.06</td>\n",
       "      <td>617.507</td>\n",
       "      <td></td>\n",
       "      <td>F</td>\n",
       "      <td>Dollars</td>\n",
       "      <td>6</td>\n",
       "      <td>Business Data Collection - BDC</td>\n",
       "      <td>Industry by financial variable (NZSIOC Level 1)</td>\n",
       "      <td>Operating profit</td>\n",
       "      <td>Arts, Recreation and Other Services</td>\n",
       "      <td>Current</td>\n",
       "      <td>Unadjusted</td>\n",
       "      <td></td>\n",
       "      <td>True</td>\n",
       "    </tr>\n",
       "  </tbody>\n",
       "</table>\n",
       "<p>6915 rows × 15 columns</p>\n",
       "</div>"
      ],
      "text/plain": [
       "     Series_reference   Period Data_value Suppressed STATUS    UNITS  \\\n",
       "0       BDCQ.SF1AA2CA  2016.06   1116.386                 F  Dollars   \n",
       "1       BDCQ.SF1AA2CA  2016.09   1070.874                 F  Dollars   \n",
       "2       BDCQ.SF1AA2CA  2016.12   1054.408                 F  Dollars   \n",
       "3       BDCQ.SF1AA2CA  2017.03   1010.665                 F  Dollars   \n",
       "4       BDCQ.SF1AA2CA  2017.06     1233.7                 F  Dollars   \n",
       "...               ...      ...        ...        ...    ...      ...   \n",
       "6910     BDCQ.SF8RSCA  2022.06    579.955                 F  Dollars   \n",
       "6911     BDCQ.SF8RSCA  2022.09    609.161                 F  Dollars   \n",
       "6912     BDCQ.SF8RSCA  2022.12    518.615                 F  Dollars   \n",
       "6913     BDCQ.SF8RSCA  2023.03     663.63                 F  Dollars   \n",
       "6914     BDCQ.SF8RSCA  2023.06    617.507                 F  Dollars   \n",
       "\n",
       "     Magnitude                         Subject  \\\n",
       "0            6  Business Data Collection - BDC   \n",
       "1            6  Business Data Collection - BDC   \n",
       "2            6  Business Data Collection - BDC   \n",
       "3            6  Business Data Collection - BDC   \n",
       "4            6  Business Data Collection - BDC   \n",
       "...        ...                             ...   \n",
       "6910         6  Business Data Collection - BDC   \n",
       "6911         6  Business Data Collection - BDC   \n",
       "6912         6  Business Data Collection - BDC   \n",
       "6913         6  Business Data Collection - BDC   \n",
       "6914         6  Business Data Collection - BDC   \n",
       "\n",
       "                                                Group  \\\n",
       "0                                                1200   \n",
       "1                                                1200   \n",
       "2                                                1200   \n",
       "3                                                1200   \n",
       "4     Industry by financial variable (NZSIOC Level 2)   \n",
       "...                                               ...   \n",
       "6910  Industry by financial variable (NZSIOC Level 1)   \n",
       "6911  Industry by financial variable (NZSIOC Level 1)   \n",
       "6912  Industry by financial variable (NZSIOC Level 1)   \n",
       "6913  Industry by financial variable (NZSIOC Level 1)   \n",
       "6914  Industry by financial variable (NZSIOC Level 1)   \n",
       "\n",
       "                Series_title_1                       Series_title_2  \\\n",
       "0     Sales (operating income)                 Forestry and Logging   \n",
       "1     Sales (operating income)                 Forestry and Logging   \n",
       "2     Sales (operating income)                 Forestry and Logging   \n",
       "3     Sales (operating income)                 Forestry and Logging   \n",
       "4     Sales (operating income)                 Forestry and Logging   \n",
       "...                        ...                                  ...   \n",
       "6910          Operating profit  Arts, Recreation and Other Services   \n",
       "6911          Operating profit  Arts, Recreation and Other Services   \n",
       "6912          Operating profit  Arts, Recreation and Other Services   \n",
       "6913          Operating profit  Arts, Recreation and Other Services   \n",
       "6914          Operating profit  Arts, Recreation and Other Services   \n",
       "\n",
       "      Series_title_3 Series_title_4 Series_title_5  On_B_Line  \n",
       "0     Current prices     Unadjusted                      True  \n",
       "1     Current prices     Unadjusted                      True  \n",
       "2     Current prices     Unadjusted                      True  \n",
       "3     Current prices     Unadjusted                      True  \n",
       "4     Current prices     Unadjusted                      True  \n",
       "...              ...            ...            ...        ...  \n",
       "6910         Current     Unadjusted                      True  \n",
       "6911         Current     Unadjusted                      True  \n",
       "6912         Current     Unadjusted                      True  \n",
       "6913         Current     Unadjusted                      True  \n",
       "6914         Current     Unadjusted                      True  \n",
       "\n",
       "[6915 rows x 15 columns]"
      ]
     },
     "execution_count": 46,
     "metadata": {},
     "output_type": "execute_result"
    }
   ],
   "source": [
    "df"
   ]
  },
  {
   "cell_type": "code",
   "execution_count": 48,
   "metadata": {},
   "outputs": [
    {
     "data": {
      "text/plain": [
       "On_B_Line\n",
       "True    1.0\n",
       "Name: proportion, dtype: float64"
      ]
     },
     "execution_count": 48,
     "metadata": {},
     "output_type": "execute_result"
    }
   ],
   "source": [
    "df['On_B_Line'].value_counts(normalize=True)"
   ]
  },
  {
   "cell_type": "code",
   "execution_count": 49,
   "metadata": {},
   "outputs": [
    {
     "data": {
      "text/plain": [
       "Index(['Series_reference', 'Period', 'Data_value', 'Suppressed', 'STATUS',\n",
       "       'UNITS', 'Magnitude', 'Subject', 'Group', 'Series_title_1',\n",
       "       'Series_title_2', 'Series_title_3', 'Series_title_4', 'Series_title_5',\n",
       "       'On_B_Line'],\n",
       "      dtype='object')"
      ]
     },
     "execution_count": 49,
     "metadata": {},
     "output_type": "execute_result"
    }
   ],
   "source": [
    "df.columns"
   ]
  },
  {
   "cell_type": "code",
   "execution_count": 51,
   "metadata": {},
   "outputs": [
    {
     "data": {
      "text/plain": [
       "['Series_reference',\n",
       " 'Period',\n",
       " 'Data_value',\n",
       " 'Suppressed',\n",
       " 'STATUS',\n",
       " 'UNITS',\n",
       " 'Magnitude',\n",
       " 'Subject',\n",
       " 'Group',\n",
       " 'Series_title_1',\n",
       " 'Series_title_2',\n",
       " 'Series_title_3',\n",
       " 'Series_title_4',\n",
       " 'Series_title_5',\n",
       " 'On_B_Line']"
      ]
     },
     "execution_count": 51,
     "metadata": {},
     "output_type": "execute_result"
    }
   ],
   "source": [
    "[col.strip() for col in df.columns]"
   ]
  },
  {
   "cell_type": "markdown",
   "metadata": {},
   "source": [
    "Alternative way of doing the above immediate task"
   ]
  },
  {
   "cell_type": "code",
   "execution_count": 52,
   "metadata": {},
   "outputs": [
    {
     "data": {
      "text/plain": [
       "Index(['Series_reference', 'Period', 'Data_value', 'Suppressed', 'STATUS',\n",
       "       'UNITS', 'Magnitude', 'Subject', 'Group', 'Series_title_1',\n",
       "       'Series_title_2', 'Series_title_3', 'Series_title_4', 'Series_title_5',\n",
       "       'On_B_Line'],\n",
       "      dtype='object')"
      ]
     },
     "execution_count": 52,
     "metadata": {},
     "output_type": "execute_result"
    }
   ],
   "source": [
    "df.columns.str.strip()"
   ]
  },
  {
   "cell_type": "markdown",
   "metadata": {},
   "source": [
    "Renaming Columns"
   ]
  },
  {
   "cell_type": "code",
   "execution_count": 80,
   "metadata": {},
   "outputs": [
    {
     "data": {
      "text/html": [
       "<div>\n",
       "<style scoped>\n",
       "    .dataframe tbody tr th:only-of-type {\n",
       "        vertical-align: middle;\n",
       "    }\n",
       "\n",
       "    .dataframe tbody tr th {\n",
       "        vertical-align: top;\n",
       "    }\n",
       "\n",
       "    .dataframe thead th {\n",
       "        text-align: right;\n",
       "    }\n",
       "</style>\n",
       "<table border=\"1\" class=\"dataframe\">\n",
       "  <thead>\n",
       "    <tr style=\"text-align: right;\">\n",
       "      <th></th>\n",
       "      <th>Series_reference</th>\n",
       "      <th>Year</th>\n",
       "      <th>Data_value</th>\n",
       "      <th>STATUS</th>\n",
       "      <th>UNITS</th>\n",
       "      <th>Magnitude</th>\n",
       "      <th>Category</th>\n",
       "      <th>Group</th>\n",
       "      <th>Series_title_1</th>\n",
       "      <th>Series_title_2</th>\n",
       "      <th>Series_title_3</th>\n",
       "      <th>Series_title_4</th>\n",
       "      <th>Series_title_5</th>\n",
       "      <th>On_B_Line</th>\n",
       "    </tr>\n",
       "  </thead>\n",
       "  <tbody>\n",
       "    <tr>\n",
       "      <th>0</th>\n",
       "      <td>BDCQ.SF1AA2CA</td>\n",
       "      <td>2016.06</td>\n",
       "      <td>1116.386</td>\n",
       "      <td>F</td>\n",
       "      <td>Dollars</td>\n",
       "      <td>6</td>\n",
       "      <td>Business Data Collection - BDC</td>\n",
       "      <td>1200</td>\n",
       "      <td>Sales (operating income)</td>\n",
       "      <td>Forestry and Logging</td>\n",
       "      <td>Current prices</td>\n",
       "      <td>Unadjusted</td>\n",
       "      <td></td>\n",
       "      <td>True</td>\n",
       "    </tr>\n",
       "    <tr>\n",
       "      <th>1</th>\n",
       "      <td>BDCQ.SF1AA2CA</td>\n",
       "      <td>2016.09</td>\n",
       "      <td>1070.874</td>\n",
       "      <td>F</td>\n",
       "      <td>Dollars</td>\n",
       "      <td>6</td>\n",
       "      <td>Business Data Collection - BDC</td>\n",
       "      <td>1200</td>\n",
       "      <td>Sales (operating income)</td>\n",
       "      <td>Forestry and Logging</td>\n",
       "      <td>Current prices</td>\n",
       "      <td>Unadjusted</td>\n",
       "      <td></td>\n",
       "      <td>True</td>\n",
       "    </tr>\n",
       "  </tbody>\n",
       "</table>\n",
       "</div>"
      ],
      "text/plain": [
       "  Series_reference     Year Data_value STATUS    UNITS Magnitude  \\\n",
       "0    BDCQ.SF1AA2CA  2016.06   1116.386      F  Dollars         6   \n",
       "1    BDCQ.SF1AA2CA  2016.09   1070.874      F  Dollars         6   \n",
       "\n",
       "                         Category Group            Series_title_1  \\\n",
       "0  Business Data Collection - BDC  1200  Sales (operating income)   \n",
       "1  Business Data Collection - BDC  1200  Sales (operating income)   \n",
       "\n",
       "         Series_title_2  Series_title_3 Series_title_4 Series_title_5  \\\n",
       "0  Forestry and Logging  Current prices     Unadjusted                  \n",
       "1  Forestry and Logging  Current prices     Unadjusted                  \n",
       "\n",
       "   On_B_Line  \n",
       "0       True  \n",
       "1       True  "
      ]
     },
     "execution_count": 80,
     "metadata": {},
     "output_type": "execute_result"
    }
   ],
   "source": [
    " df.rename(columns={\"Period\": \"Year\", \"Subject\": \"Category\"}, inplace=True)\n",
    " df.head(2)"
   ]
  },
  {
   "cell_type": "markdown",
   "metadata": {},
   "source": [
    "Dropping Columns"
   ]
  },
  {
   "cell_type": "markdown",
   "metadata": {},
   "source": [
    "\n",
    "let's assume we want to drop the column \"Magnitude\""
   ]
  },
  {
   "cell_type": "code",
   "execution_count": 82,
   "metadata": {},
   "outputs": [],
   "source": [
    "df.drop(\"Magnitude\", axis=1)  #This will delete the column \"Magnitude\""
   ]
  },
  {
   "cell_type": "markdown",
   "metadata": {},
   "source": [
    "To Permanently delete the row:"
   ]
  },
  {
   "cell_type": "code",
   "execution_count": 83,
   "metadata": {},
   "outputs": [
    {
     "data": {
      "text/html": [
       "<div>\n",
       "<style scoped>\n",
       "    .dataframe tbody tr th:only-of-type {\n",
       "        vertical-align: middle;\n",
       "    }\n",
       "\n",
       "    .dataframe tbody tr th {\n",
       "        vertical-align: top;\n",
       "    }\n",
       "\n",
       "    .dataframe thead th {\n",
       "        text-align: right;\n",
       "    }\n",
       "</style>\n",
       "<table border=\"1\" class=\"dataframe\">\n",
       "  <thead>\n",
       "    <tr style=\"text-align: right;\">\n",
       "      <th></th>\n",
       "      <th>Series_reference</th>\n",
       "      <th>Year</th>\n",
       "      <th>Data_value</th>\n",
       "      <th>STATUS</th>\n",
       "      <th>UNITS</th>\n",
       "      <th>Category</th>\n",
       "      <th>Group</th>\n",
       "      <th>Series_title_1</th>\n",
       "      <th>Series_title_2</th>\n",
       "      <th>Series_title_3</th>\n",
       "      <th>Series_title_4</th>\n",
       "      <th>Series_title_5</th>\n",
       "      <th>On_B_Line</th>\n",
       "    </tr>\n",
       "  </thead>\n",
       "  <tbody>\n",
       "    <tr>\n",
       "      <th>0</th>\n",
       "      <td>BDCQ.SF1AA2CA</td>\n",
       "      <td>2016.06</td>\n",
       "      <td>1116.386</td>\n",
       "      <td>F</td>\n",
       "      <td>Dollars</td>\n",
       "      <td>Business Data Collection - BDC</td>\n",
       "      <td>1200</td>\n",
       "      <td>Sales (operating income)</td>\n",
       "      <td>Forestry and Logging</td>\n",
       "      <td>Current prices</td>\n",
       "      <td>Unadjusted</td>\n",
       "      <td></td>\n",
       "      <td>True</td>\n",
       "    </tr>\n",
       "    <tr>\n",
       "      <th>1</th>\n",
       "      <td>BDCQ.SF1AA2CA</td>\n",
       "      <td>2016.09</td>\n",
       "      <td>1070.874</td>\n",
       "      <td>F</td>\n",
       "      <td>Dollars</td>\n",
       "      <td>Business Data Collection - BDC</td>\n",
       "      <td>1200</td>\n",
       "      <td>Sales (operating income)</td>\n",
       "      <td>Forestry and Logging</td>\n",
       "      <td>Current prices</td>\n",
       "      <td>Unadjusted</td>\n",
       "      <td></td>\n",
       "      <td>True</td>\n",
       "    </tr>\n",
       "  </tbody>\n",
       "</table>\n",
       "</div>"
      ],
      "text/plain": [
       "  Series_reference     Year Data_value STATUS    UNITS  \\\n",
       "0    BDCQ.SF1AA2CA  2016.06   1116.386      F  Dollars   \n",
       "1    BDCQ.SF1AA2CA  2016.09   1070.874      F  Dollars   \n",
       "\n",
       "                         Category Group            Series_title_1  \\\n",
       "0  Business Data Collection - BDC  1200  Sales (operating income)   \n",
       "1  Business Data Collection - BDC  1200  Sales (operating income)   \n",
       "\n",
       "         Series_title_2  Series_title_3 Series_title_4 Series_title_5  \\\n",
       "0  Forestry and Logging  Current prices     Unadjusted                  \n",
       "1  Forestry and Logging  Current prices     Unadjusted                  \n",
       "\n",
       "   On_B_Line  \n",
       "0       True  \n",
       "1       True  "
      ]
     },
     "execution_count": 83,
     "metadata": {},
     "output_type": "execute_result"
    }
   ],
   "source": [
    "df=df.drop(\"Magnitude\", axis=1) \n",
    "df.head(2)"
   ]
  },
  {
   "cell_type": "code",
   "execution_count": 84,
   "metadata": {},
   "outputs": [
    {
     "name": "stdout",
     "output_type": "stream",
     "text": [
      "<class 'pandas.core.frame.DataFrame'>\n",
      "RangeIndex: 6915 entries, 0 to 6914\n",
      "Data columns (total 13 columns):\n",
      " #   Column            Non-Null Count  Dtype \n",
      "---  ------            --------------  ----- \n",
      " 0   Series_reference  6915 non-null   object\n",
      " 1   Year              6915 non-null   object\n",
      " 2   Data_value        6915 non-null   object\n",
      " 3   STATUS            6915 non-null   object\n",
      " 4   UNITS             6915 non-null   object\n",
      " 5   Category          6915 non-null   object\n",
      " 6   Group             6915 non-null   object\n",
      " 7   Series_title_1    6915 non-null   object\n",
      " 8   Series_title_2    6915 non-null   object\n",
      " 9   Series_title_3    6915 non-null   object\n",
      " 10  Series_title_4    6915 non-null   object\n",
      " 11  Series_title_5    6915 non-null   object\n",
      " 12  On_B_Line         6915 non-null   bool  \n",
      "dtypes: bool(1), object(12)\n",
      "memory usage: 655.2+ KB\n"
     ]
    }
   ],
   "source": [
    "df.info()"
   ]
  },
  {
   "cell_type": "code",
   "execution_count": 85,
   "metadata": {},
   "outputs": [
    {
     "name": "stdout",
     "output_type": "stream",
     "text": [
      "object\n"
     ]
    }
   ],
   "source": [
    "print(df[\"Year\"].dtype)"
   ]
  },
  {
   "cell_type": "markdown",
   "metadata": {},
   "source": [
    "Chnaging Column Data Type"
   ]
  },
  {
   "cell_type": "code",
   "execution_count": 87,
   "metadata": {},
   "outputs": [
    {
     "data": {
      "text/plain": [
       "0    2016.06\n",
       "1    2016.09\n",
       "2    2016.12\n",
       "3    2017.03\n",
       "4    2017.06\n",
       "5    2017.09\n",
       "Name: Year, dtype: float64"
      ]
     },
     "execution_count": 87,
     "metadata": {},
     "output_type": "execute_result"
    }
   ],
   "source": [
    "df.loc[:5, \"Year\"].astype(float)"
   ]
  },
  {
   "cell_type": "code",
   "execution_count": 89,
   "metadata": {},
   "outputs": [
    {
     "data": {
      "text/plain": [
       "0    2016.06\n",
       "1    2016.09\n",
       "2    2016.12\n",
       "3    2017.03\n",
       "4    2017.06\n",
       "5    2017.09\n",
       "Name: Year, dtype: float64"
      ]
     },
     "execution_count": 89,
     "metadata": {},
     "output_type": "execute_result"
    }
   ],
   "source": [
    "#We can also use map() method\n",
    "df.loc[:5,\"Year\"].map(float)"
   ]
  },
  {
   "cell_type": "code",
   "execution_count": 90,
   "metadata": {},
   "outputs": [],
   "source": [
    "df[\"Year\"] = df [\"Year\"].map(float) #This will permanently change the data type"
   ]
  },
  {
   "cell_type": "code",
   "execution_count": 91,
   "metadata": {},
   "outputs": [
    {
     "name": "stdout",
     "output_type": "stream",
     "text": [
      "<class 'pandas.core.frame.DataFrame'>\n",
      "RangeIndex: 6915 entries, 0 to 6914\n",
      "Data columns (total 13 columns):\n",
      " #   Column            Non-Null Count  Dtype  \n",
      "---  ------            --------------  -----  \n",
      " 0   Series_reference  6915 non-null   object \n",
      " 1   Year              6915 non-null   float64\n",
      " 2   Data_value        6915 non-null   object \n",
      " 3   STATUS            6915 non-null   object \n",
      " 4   UNITS             6915 non-null   object \n",
      " 5   Category          6915 non-null   object \n",
      " 6   Group             6915 non-null   object \n",
      " 7   Series_title_1    6915 non-null   object \n",
      " 8   Series_title_2    6915 non-null   object \n",
      " 9   Series_title_3    6915 non-null   object \n",
      " 10  Series_title_4    6915 non-null   object \n",
      " 11  Series_title_5    6915 non-null   object \n",
      " 12  On_B_Line         6915 non-null   bool   \n",
      "dtypes: bool(1), float64(1), object(11)\n",
      "memory usage: 655.2+ KB\n"
     ]
    }
   ],
   "source": [
    "df.info()"
   ]
  },
  {
   "cell_type": "code",
   "execution_count": 95,
   "metadata": {},
   "outputs": [
    {
     "data": {
      "text/plain": [
       "5027    2022.09\n",
       "4172    2019.03\n",
       "3358    2022.03\n",
       "2670    2016.12\n",
       "1746    2017.12\n",
       "1985    2019.09\n",
       "4494    2019.12\n",
       "5256    2023.03\n",
       "1748    2018.06\n",
       "202     2023.06\n",
       "Name: Year, dtype: float64"
      ]
     },
     "execution_count": 95,
     "metadata": {},
     "output_type": "execute_result"
    }
   ],
   "source": [
    "date_sample = df['Year'].sample(n=10, random_state=0)\n",
    "date_sample"
   ]
  },
  {
   "cell_type": "code",
   "execution_count": 94,
   "metadata": {},
   "outputs": [
    {
     "data": {
      "text/plain": [
       "0       2016.06\n",
       "1       2016.09\n",
       "2       2016.12\n",
       "3       2017.03\n",
       "4       2017.06\n",
       "         ...   \n",
       "6910    2022.06\n",
       "6911    2022.09\n",
       "6912    2022.12\n",
       "6913    2023.03\n",
       "6914    2023.06\n",
       "Name: Year, Length: 6915, dtype: float64"
      ]
     },
     "execution_count": 94,
     "metadata": {},
     "output_type": "execute_result"
    }
   ],
   "source": [
    "df[\"Year\"]"
   ]
  },
  {
   "cell_type": "code",
   "execution_count": 97,
   "metadata": {},
   "outputs": [
    {
     "data": {
      "text/html": [
       "<div>\n",
       "<style scoped>\n",
       "    .dataframe tbody tr th:only-of-type {\n",
       "        vertical-align: middle;\n",
       "    }\n",
       "\n",
       "    .dataframe tbody tr th {\n",
       "        vertical-align: top;\n",
       "    }\n",
       "\n",
       "    .dataframe thead th {\n",
       "        text-align: right;\n",
       "    }\n",
       "</style>\n",
       "<table border=\"1\" class=\"dataframe\">\n",
       "  <thead>\n",
       "    <tr style=\"text-align: right;\">\n",
       "      <th></th>\n",
       "      <th>Series_reference</th>\n",
       "      <th>Year</th>\n",
       "      <th>Data_value</th>\n",
       "      <th>STATUS</th>\n",
       "      <th>UNITS</th>\n",
       "      <th>Category</th>\n",
       "      <th>Group</th>\n",
       "      <th>Series_title_1</th>\n",
       "      <th>Series_title_2</th>\n",
       "      <th>Series_title_3</th>\n",
       "      <th>Series_title_4</th>\n",
       "      <th>Series_title_5</th>\n",
       "      <th>On_B_Line</th>\n",
       "    </tr>\n",
       "  </thead>\n",
       "  <tbody>\n",
       "    <tr>\n",
       "      <th>0</th>\n",
       "      <td>BDCQ.SF1AA2CA</td>\n",
       "      <td>2016.06</td>\n",
       "      <td>1116.386</td>\n",
       "      <td>F</td>\n",
       "      <td>Dollars</td>\n",
       "      <td>Business Data Collection - BDC</td>\n",
       "      <td>1200</td>\n",
       "      <td>Sales (operating income)</td>\n",
       "      <td>Forestry and Logging</td>\n",
       "      <td>Current prices</td>\n",
       "      <td>Unadjusted</td>\n",
       "      <td></td>\n",
       "      <td>True</td>\n",
       "    </tr>\n",
       "    <tr>\n",
       "      <th>1</th>\n",
       "      <td>BDCQ.SF1AA2CA</td>\n",
       "      <td>2016.09</td>\n",
       "      <td>1070.874</td>\n",
       "      <td>F</td>\n",
       "      <td>Dollars</td>\n",
       "      <td>Business Data Collection - BDC</td>\n",
       "      <td>1200</td>\n",
       "      <td>Sales (operating income)</td>\n",
       "      <td>Forestry and Logging</td>\n",
       "      <td>Current prices</td>\n",
       "      <td>Unadjusted</td>\n",
       "      <td></td>\n",
       "      <td>True</td>\n",
       "    </tr>\n",
       "    <tr>\n",
       "      <th>2</th>\n",
       "      <td>BDCQ.SF1AA2CA</td>\n",
       "      <td>2016.12</td>\n",
       "      <td>1054.408</td>\n",
       "      <td>F</td>\n",
       "      <td>Dollars</td>\n",
       "      <td>Business Data Collection - BDC</td>\n",
       "      <td>1200</td>\n",
       "      <td>Sales (operating income)</td>\n",
       "      <td>Forestry and Logging</td>\n",
       "      <td>Current prices</td>\n",
       "      <td>Unadjusted</td>\n",
       "      <td></td>\n",
       "      <td>True</td>\n",
       "    </tr>\n",
       "    <tr>\n",
       "      <th>3</th>\n",
       "      <td>BDCQ.SF1AA2CA</td>\n",
       "      <td>2017.03</td>\n",
       "      <td>1010.665</td>\n",
       "      <td>F</td>\n",
       "      <td>Dollars</td>\n",
       "      <td>Business Data Collection - BDC</td>\n",
       "      <td>1200</td>\n",
       "      <td>Sales (operating income)</td>\n",
       "      <td>Forestry and Logging</td>\n",
       "      <td>Current prices</td>\n",
       "      <td>Unadjusted</td>\n",
       "      <td></td>\n",
       "      <td>True</td>\n",
       "    </tr>\n",
       "    <tr>\n",
       "      <th>4</th>\n",
       "      <td>BDCQ.SF1AA2CA</td>\n",
       "      <td>2017.06</td>\n",
       "      <td>1233.7</td>\n",
       "      <td>F</td>\n",
       "      <td>Dollars</td>\n",
       "      <td>Business Data Collection - BDC</td>\n",
       "      <td>Industry by financial variable (NZSIOC Level 2)</td>\n",
       "      <td>Sales (operating income)</td>\n",
       "      <td>Forestry and Logging</td>\n",
       "      <td>Current prices</td>\n",
       "      <td>Unadjusted</td>\n",
       "      <td></td>\n",
       "      <td>True</td>\n",
       "    </tr>\n",
       "  </tbody>\n",
       "</table>\n",
       "</div>"
      ],
      "text/plain": [
       "  Series_reference     Year Data_value STATUS    UNITS  \\\n",
       "0    BDCQ.SF1AA2CA  2016.06   1116.386      F  Dollars   \n",
       "1    BDCQ.SF1AA2CA  2016.09   1070.874      F  Dollars   \n",
       "2    BDCQ.SF1AA2CA  2016.12   1054.408      F  Dollars   \n",
       "3    BDCQ.SF1AA2CA  2017.03   1010.665      F  Dollars   \n",
       "4    BDCQ.SF1AA2CA  2017.06     1233.7      F  Dollars   \n",
       "\n",
       "                         Category  \\\n",
       "0  Business Data Collection - BDC   \n",
       "1  Business Data Collection - BDC   \n",
       "2  Business Data Collection - BDC   \n",
       "3  Business Data Collection - BDC   \n",
       "4  Business Data Collection - BDC   \n",
       "\n",
       "                                             Group            Series_title_1  \\\n",
       "0                                             1200  Sales (operating income)   \n",
       "1                                             1200  Sales (operating income)   \n",
       "2                                             1200  Sales (operating income)   \n",
       "3                                             1200  Sales (operating income)   \n",
       "4  Industry by financial variable (NZSIOC Level 2)  Sales (operating income)   \n",
       "\n",
       "         Series_title_2  Series_title_3 Series_title_4 Series_title_5  \\\n",
       "0  Forestry and Logging  Current prices     Unadjusted                  \n",
       "1  Forestry and Logging  Current prices     Unadjusted                  \n",
       "2  Forestry and Logging  Current prices     Unadjusted                  \n",
       "3  Forestry and Logging  Current prices     Unadjusted                  \n",
       "4  Forestry and Logging  Current prices     Unadjusted                  \n",
       "\n",
       "   On_B_Line  \n",
       "0       True  \n",
       "1       True  \n",
       "2       True  \n",
       "3       True  \n",
       "4       True  "
      ]
     },
     "execution_count": 97,
     "metadata": {},
     "output_type": "execute_result"
    }
   ],
   "source": [
    "df.head()"
   ]
  },
  {
   "cell_type": "code",
   "execution_count": 102,
   "metadata": {},
   "outputs": [
    {
     "name": "stdout",
     "output_type": "stream",
     "text": [
      "<class 'pandas.core.frame.DataFrame'>\n",
      "RangeIndex: 6915 entries, 0 to 6914\n",
      "Data columns (total 13 columns):\n",
      " #   Column            Non-Null Count  Dtype  \n",
      "---  ------            --------------  -----  \n",
      " 0   Series_reference  6915 non-null   object \n",
      " 1   Year              6915 non-null   float64\n",
      " 2   Data_value        6915 non-null   object \n",
      " 3   STATUS            6915 non-null   object \n",
      " 4   UNITS             6915 non-null   object \n",
      " 5   Category          6915 non-null   object \n",
      " 6   Group             6915 non-null   object \n",
      " 7   Series_title_1    6915 non-null   object \n",
      " 8   Series_title_2    6915 non-null   object \n",
      " 9   Series_title_3    6915 non-null   object \n",
      " 10  Series_title_4    6915 non-null   object \n",
      " 11  Series_title_5    6915 non-null   object \n",
      " 12  On_B_Line         6915 non-null   bool   \n",
      "dtypes: bool(1), float64(1), object(11)\n",
      "memory usage: 655.2+ KB\n"
     ]
    }
   ],
   "source": [
    "df.info()"
   ]
  },
  {
   "cell_type": "code",
   "execution_count": 103,
   "metadata": {},
   "outputs": [
    {
     "data": {
      "text/html": [
       "<div>\n",
       "<style scoped>\n",
       "    .dataframe tbody tr th:only-of-type {\n",
       "        vertical-align: middle;\n",
       "    }\n",
       "\n",
       "    .dataframe tbody tr th {\n",
       "        vertical-align: top;\n",
       "    }\n",
       "\n",
       "    .dataframe thead th {\n",
       "        text-align: right;\n",
       "    }\n",
       "</style>\n",
       "<table border=\"1\" class=\"dataframe\">\n",
       "  <thead>\n",
       "    <tr style=\"text-align: right;\">\n",
       "      <th></th>\n",
       "      <th>Year</th>\n",
       "    </tr>\n",
       "  </thead>\n",
       "  <tbody>\n",
       "    <tr>\n",
       "      <th>count</th>\n",
       "      <td>6915.000000</td>\n",
       "    </tr>\n",
       "    <tr>\n",
       "      <th>mean</th>\n",
       "      <td>2019.473197</td>\n",
       "    </tr>\n",
       "    <tr>\n",
       "      <th>std</th>\n",
       "      <td>2.111185</td>\n",
       "    </tr>\n",
       "    <tr>\n",
       "      <th>min</th>\n",
       "      <td>2016.060000</td>\n",
       "    </tr>\n",
       "    <tr>\n",
       "      <th>25%</th>\n",
       "      <td>2018.030000</td>\n",
       "    </tr>\n",
       "    <tr>\n",
       "      <th>50%</th>\n",
       "      <td>2019.120000</td>\n",
       "    </tr>\n",
       "    <tr>\n",
       "      <th>75%</th>\n",
       "      <td>2021.090000</td>\n",
       "    </tr>\n",
       "    <tr>\n",
       "      <th>max</th>\n",
       "      <td>2023.060000</td>\n",
       "    </tr>\n",
       "  </tbody>\n",
       "</table>\n",
       "</div>"
      ],
      "text/plain": [
       "              Year\n",
       "count  6915.000000\n",
       "mean   2019.473197\n",
       "std       2.111185\n",
       "min    2016.060000\n",
       "25%    2018.030000\n",
       "50%    2019.120000\n",
       "75%    2021.090000\n",
       "max    2023.060000"
      ]
     },
     "execution_count": 103,
     "metadata": {},
     "output_type": "execute_result"
    }
   ],
   "source": [
    "df.describe() #Calculates the basic summary statistics for each columns for \n",
    "               # for us automatically"
   ]
  },
  {
   "cell_type": "markdown",
   "metadata": {},
   "source": [
    ".mode() -- the mode of the column\n",
    "\n",
    ".count() -- the count of the total number of entries in a column\n",
    "\n",
    ".std() -- the standard deviation for the column\n",
    "\n",
    ".var() -- the variance for the column\n",
    "\n",
    ".sum() -- the sum of all values in the column\n",
    "\n",
    ".cumsum() -- the cumulative sum, where each cell index contains the sum of all indices lower than, and including, itself."
   ]
  },
  {
   "cell_type": "code",
   "execution_count": 104,
   "metadata": {},
   "outputs": [
    {
     "data": {
      "text/plain": [
       "0       F\n",
       "1       F\n",
       "2       F\n",
       "3       F\n",
       "4       F\n",
       "       ..\n",
       "6910    F\n",
       "6911    F\n",
       "6912    F\n",
       "6913    F\n",
       "6914    F\n",
       "Name: STATUS, Length: 6915, dtype: object"
      ]
     },
     "execution_count": 104,
     "metadata": {},
     "output_type": "execute_result"
    }
   ],
   "source": [
    "#Summary Statistics for Categorical Columns\n",
    "df[\"STATUS\"]"
   ]
  },
  {
   "cell_type": "code",
   "execution_count": null,
   "metadata": {},
   "outputs": [],
   "source": []
  }
 ],
 "metadata": {
  "kernelspec": {
   "display_name": "Python (learn-env)",
   "language": "python",
   "name": "learn-env"
  },
  "language_info": {
   "codemirror_mode": {
    "name": "ipython",
    "version": 3
   },
   "file_extension": ".py",
   "mimetype": "text/x-python",
   "name": "python",
   "nbconvert_exporter": "python",
   "pygments_lexer": "ipython3",
   "version": "3.11.5"
  }
 },
 "nbformat": 4,
 "nbformat_minor": 2
}
